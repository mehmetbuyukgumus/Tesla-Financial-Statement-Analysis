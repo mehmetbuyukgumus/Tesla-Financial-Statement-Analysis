{
 "cells": [
  {
   "cell_type": "code",
   "execution_count": 1,
   "metadata": {},
   "outputs": [],
   "source": [
    "import pandas as pd\n",
    "import numpy as np\n",
    "import sqlite3\n",
    "import seaborn as sns\n",
    "import matplotlib.pyplot as plt\n",
    "from warnings import filterwarnings\n",
    "\n",
    "conn = sqlite3.connect(\"../tesla_financials.db\")\n",
    "c = conn.cursor()\n",
    "\n",
    "df_bs = pd.read_sql(\"SELECT * FROM BalanceS_new\", conn)\n",
    "df_is = pd.read_sql(\"SELECT * FROM IncomeS_new\", conn)"
   ]
  },
  {
   "cell_type": "markdown",
   "metadata": {},
   "source": [
    "### Observation the Data"
   ]
  },
  {
   "cell_type": "code",
   "execution_count": 2,
   "metadata": {},
   "outputs": [],
   "source": [
    "df_bs.drop(31, inplace= True)"
   ]
  },
  {
   "cell_type": "code",
   "execution_count": 3,
   "metadata": {},
   "outputs": [],
   "source": [
    "df_bs.replace(\"--\", 0, inplace= True)\n",
    "df_is.replace(\"--\", 0, inplace= True)"
   ]
  },
  {
   "cell_type": "code",
   "execution_count": 4,
   "metadata": {},
   "outputs": [
    {
     "name": "stdout",
     "output_type": "stream",
     "text": [
      "<class 'pandas.core.frame.DataFrame'>\n",
      "Index: 33 entries, 0 to 33\n",
      "Data columns (total 5 columns):\n",
      " #   Column        Non-Null Count  Dtype \n",
      "---  ------        --------------  ----- \n",
      " 0   PeriodEnding  33 non-null     object\n",
      " 1   12/31/2022    29 non-null     object\n",
      " 2   12/31/2021    29 non-null     object\n",
      " 3   12/31/2020    29 non-null     object\n",
      " 4   12/31/2019    29 non-null     object\n",
      "dtypes: object(5)\n",
      "memory usage: 1.5+ KB\n"
     ]
    }
   ],
   "source": [
    "df_bs.info()"
   ]
  },
  {
   "cell_type": "code",
   "execution_count": 5,
   "metadata": {},
   "outputs": [],
   "source": [
    "def type_casting(dataframe):\n",
    "    for column in dataframe.columns:\n",
    "        if column != dataframe.columns[0]:\n",
    "            dataframe[column] = dataframe[column].str.replace('.', '').str.replace(',', '.')\n",
    "            dataframe[column] = dataframe[column].str.replace('(', '-').str.replace(')', '')\n",
    "            dataframe[column] = dataframe[column].astype(float)\n"
   ]
  },
  {
   "cell_type": "code",
   "execution_count": 6,
   "metadata": {},
   "outputs": [],
   "source": [
    "type_casting(df_bs)\n",
    "type_casting(df_is)"
   ]
  },
  {
   "cell_type": "code",
   "execution_count": 7,
   "metadata": {},
   "outputs": [],
   "source": [
    "df_bs.fillna(0, inplace= True)\n",
    "df_is.fillna(0, inplace= True)"
   ]
  },
  {
   "cell_type": "code",
   "execution_count": 8,
   "metadata": {},
   "outputs": [],
   "source": [
    "def delete_zero_values(dataframe):\n",
    "    zero_rows = dataframe[dataframe.iloc[:, 1:].sum(axis=1) == 0]\n",
    "    dataframe = dataframe.drop(zero_rows.index, inplace = True)"
   ]
  },
  {
   "cell_type": "code",
   "execution_count": 9,
   "metadata": {},
   "outputs": [],
   "source": [
    "delete_zero_values(df_bs)\n",
    "delete_zero_values(df_is)"
   ]
  },
  {
   "cell_type": "markdown",
   "metadata": {},
   "source": [
    "### Calculating the Ratios"
   ]
  },
  {
   "cell_type": "markdown",
   "metadata": {},
   "source": [
    "#### Liquidity Ratios"
   ]
  },
  {
   "cell_type": "code",
   "execution_count": 10,
   "metadata": {},
   "outputs": [
    {
     "data": {
      "text/plain": [
       "array([1.53195552, 1.37528546, 1.87514037, 1.13462079])"
      ]
     },
     "execution_count": 10,
     "metadata": {},
     "output_type": "execute_result"
    }
   ],
   "source": [
    "total_current_assets = np.array(df_bs.iloc[5:6,1:])\n",
    "total_current_liabilities = np.array(df_bs.iloc[12:13,1:])\n",
    "current_ratio = total_current_assets / total_current_liabilities\n",
    "current_ratio = current_ratio.flatten()\n",
    "current_ratio"
   ]
  },
  {
   "cell_type": "code",
   "execution_count": 11,
   "metadata": {},
   "outputs": [
    {
     "data": {
      "text/plain": [
       "array([0.60852147, 0.89195636, 1.36047165, 0.58760664])"
      ]
     },
     "execution_count": 11,
     "metadata": {},
     "output_type": "execute_result"
    }
   ],
   "source": [
    "cashandcashequivalents = np.array(df_bs.iloc[0:1,1:])\n",
    "shorttermliabilities = np.array(df_bs.iloc[10:11,1:])\n",
    "cash_ratio = cashandcashequivalents / total_current_liabilities\n",
    "cash_ratio = cash_ratio.flatten()\n",
    "cash_ratio"
   ]
  },
  {
   "cell_type": "markdown",
   "metadata": {},
   "source": [
    "#### Financial Structures Ratios"
   ]
  },
  {
   "cell_type": "code",
   "execution_count": 12,
   "metadata": {},
   "outputs": [
    {
     "data": {
      "text/plain": [
       "array([0.54293279, 0.48589271, 0.42619084, 0.19289399])"
      ]
     },
     "execution_count": 12,
     "metadata": {},
     "output_type": "execute_result"
    }
   ],
   "source": [
    "equity = np.array(df_bs.iloc[19:20,1:])\n",
    "total_assets = np.array(df_bs.iloc[8:9,1:])\n",
    "equity_assets_ratio = equity / total_assets\n",
    "equity_assets_ratio = equity_assets_ratio.flatten() \n",
    "equity_assets_ratio "
   ]
  },
  {
   "cell_type": "code",
   "execution_count": 13,
   "metadata": {},
   "outputs": [
    {
     "data": {
      "text/plain": [
       "array([1.67374293, 1.5320477 , 1.55986805, 0.62041811])"
      ]
     },
     "execution_count": 13,
     "metadata": {},
     "output_type": "execute_result"
    }
   ],
   "source": [
    "total_liabilities = np.array(df_bs.iloc[16:17, 1:])\n",
    "equity_liabilities_ratio = equity / total_current_liabilities\n",
    "equity_liabilities_ratio = equity_liabilities_ratio.flatten()\n",
    "equity_liabilities_ratio"
   ]
  },
  {
   "cell_type": "markdown",
   "metadata": {},
   "source": [
    "#### Turnover Ratios"
   ]
  },
  {
   "cell_type": "code",
   "execution_count": 14,
   "metadata": {},
   "outputs": [
    {
     "data": {
      "text/plain": [
       "array([2.18836803, 1.71552878, 1.07749077, 0.90868086])"
      ]
     },
     "execution_count": 14,
     "metadata": {},
     "output_type": "execute_result"
    }
   ],
   "source": [
    "total_revenues = np.array(df_is.iloc[0:1, 1:])\n",
    "accounts_receivable_turnover_ratio = total_revenues / total_liabilities\n",
    "accounts_receivable_turnover_ratio = accounts_receivable_turnover_ratio.flatten()\n",
    "accounts_receivable_turnover_ratio"
   ]
  },
  {
   "cell_type": "code",
   "execution_count": 15,
   "metadata": {},
   "outputs": [
    {
     "data": {
      "text/plain": [
       "array([1.99090842, 1.98608856, 1.18037205, 2.03073618])"
      ]
     },
     "execution_count": 15,
     "metadata": {},
     "output_type": "execute_result"
    }
   ],
   "source": [
    "working_capital_turnover_ratio = total_revenues / total_current_assets\n",
    "working_capital_turnover_ratio = working_capital_turnover_ratio.flatten()\n",
    "working_capital_turnover_ratio"
   ]
  },
  {
   "cell_type": "markdown",
   "metadata": {},
   "source": [
    "#### Profitability Ratios"
   ]
  },
  {
   "cell_type": "code",
   "execution_count": 16,
   "metadata": {},
   "outputs": [
    {
     "data": {
      "text/plain": [
       "array([ 1.54133215e-01,  1.02539806e-01,  0.00000000e+00, -3.50720156e-05])"
      ]
     },
     "execution_count": 16,
     "metadata": {},
     "output_type": "execute_result"
    }
   ],
   "source": [
    "net_income = np.array(df_is.iloc[13:14, 1:])\n",
    "income_revenue_ratio = net_income / total_revenues\n",
    "income_revenue_ratio = income_revenue_ratio.flatten()\n",
    "income_revenue_ratio"
   ]
  },
  {
   "cell_type": "code",
   "execution_count": 17,
   "metadata": {},
   "outputs": [
    {
     "data": {
      "text/plain": [
       "array([ 3.18195641e+00,  1.22182865e+00,  0.00000000e+00, -3.25774754e-04])"
      ]
     },
     "execution_count": 17,
     "metadata": {},
     "output_type": "execute_result"
    }
   ],
   "source": [
    "general_expense = np.array(df_is.iloc[4:5, 1:])\n",
    "sales_general_expenses = net_income / general_expense\n",
    "sales_general_expenses = sales_general_expenses.flatten()\n",
    "sales_general_expenses"
   ]
  },
  {
   "cell_type": "code",
   "execution_count": 18,
   "metadata": {},
   "outputs": [
    {
     "data": {
      "text/plain": [
       "array([0.25598439, 0.25279156, 0.21023592, 0.16555456])"
      ]
     },
     "execution_count": 18,
     "metadata": {},
     "output_type": "execute_result"
    }
   ],
   "source": [
    "cost_of_revenue = np.array(df_is.iloc[1:2, 1:])\n",
    "gorss_margin = (total_revenues - cost_of_revenue) / total_revenues\n",
    "gorss_margin = gorss_margin.flatten()\n",
    "gorss_margin"
   ]
  },
  {
   "cell_type": "code",
   "execution_count": 19,
   "metadata": {},
   "outputs": [
    {
     "data": {
      "text/html": [
       "<div>\n",
       "<style scoped>\n",
       "    .dataframe tbody tr th:only-of-type {\n",
       "        vertical-align: middle;\n",
       "    }\n",
       "\n",
       "    .dataframe tbody tr th {\n",
       "        vertical-align: top;\n",
       "    }\n",
       "\n",
       "    .dataframe thead th {\n",
       "        text-align: right;\n",
       "    }\n",
       "</style>\n",
       "<table border=\"1\" class=\"dataframe\">\n",
       "  <thead>\n",
       "    <tr style=\"text-align: right;\">\n",
       "      <th></th>\n",
       "      <th>Years</th>\n",
       "      <th>c_r</th>\n",
       "      <th>cs_r</th>\n",
       "      <th>ea_r</th>\n",
       "      <th>el_r</th>\n",
       "      <th>art_r</th>\n",
       "      <th>wct_r</th>\n",
       "      <th>ir_r</th>\n",
       "      <th>sge</th>\n",
       "      <th>gm</th>\n",
       "    </tr>\n",
       "  </thead>\n",
       "  <tbody>\n",
       "    <tr>\n",
       "      <th>0</th>\n",
       "      <td>2022</td>\n",
       "      <td>1.531956</td>\n",
       "      <td>0.608521</td>\n",
       "      <td>0.542933</td>\n",
       "      <td>1.673743</td>\n",
       "      <td>2.188368</td>\n",
       "      <td>1.990908</td>\n",
       "      <td>0.154133</td>\n",
       "      <td>3.181956</td>\n",
       "      <td>0.255984</td>\n",
       "    </tr>\n",
       "    <tr>\n",
       "      <th>1</th>\n",
       "      <td>2021</td>\n",
       "      <td>1.375285</td>\n",
       "      <td>0.891956</td>\n",
       "      <td>0.485893</td>\n",
       "      <td>1.532048</td>\n",
       "      <td>1.715529</td>\n",
       "      <td>1.986089</td>\n",
       "      <td>0.102540</td>\n",
       "      <td>1.221829</td>\n",
       "      <td>0.252792</td>\n",
       "    </tr>\n",
       "    <tr>\n",
       "      <th>2</th>\n",
       "      <td>2020</td>\n",
       "      <td>1.875140</td>\n",
       "      <td>1.360472</td>\n",
       "      <td>0.426191</td>\n",
       "      <td>1.559868</td>\n",
       "      <td>1.077491</td>\n",
       "      <td>1.180372</td>\n",
       "      <td>0.000000</td>\n",
       "      <td>0.000000</td>\n",
       "      <td>0.210236</td>\n",
       "    </tr>\n",
       "    <tr>\n",
       "      <th>3</th>\n",
       "      <td>2019</td>\n",
       "      <td>1.134621</td>\n",
       "      <td>0.587607</td>\n",
       "      <td>0.192894</td>\n",
       "      <td>0.620418</td>\n",
       "      <td>0.908681</td>\n",
       "      <td>2.030736</td>\n",
       "      <td>-0.000035</td>\n",
       "      <td>-0.000326</td>\n",
       "      <td>0.165555</td>\n",
       "    </tr>\n",
       "  </tbody>\n",
       "</table>\n",
       "</div>"
      ],
      "text/plain": [
       "  Years       c_r      cs_r      ea_r      el_r     art_r     wct_r      ir_r  \\\n",
       "0  2022  1.531956  0.608521  0.542933  1.673743  2.188368  1.990908  0.154133   \n",
       "1  2021  1.375285  0.891956  0.485893  1.532048  1.715529  1.986089  0.102540   \n",
       "2  2020  1.875140  1.360472  0.426191  1.559868  1.077491  1.180372  0.000000   \n",
       "3  2019  1.134621  0.587607  0.192894  0.620418  0.908681  2.030736 -0.000035   \n",
       "\n",
       "        sge        gm  \n",
       "0  3.181956  0.255984  \n",
       "1  1.221829  0.252792  \n",
       "2  0.000000  0.210236  \n",
       "3 -0.000326  0.165555  "
      ]
     },
     "execution_count": 19,
     "metadata": {},
     "output_type": "execute_result"
    }
   ],
   "source": [
    "df_ratios = {\"Years\": [\"2022\", \"2021\", \"2020\", \"2019\"],\n",
    "    \"c_r\" :current_ratio,\n",
    "    \"cs_r\" : cash_ratio,\n",
    "    \"ea_r\" : equity_assets_ratio,\n",
    "    \"el_r\" : equity_liabilities_ratio,\n",
    "    \"art_r\" : accounts_receivable_turnover_ratio,\n",
    "    \"wct_r\" : working_capital_turnover_ratio,\n",
    "    \"ir_r\" : income_revenue_ratio,\n",
    "    \"sge\" : sales_general_expenses,\n",
    "    \"gm\" : gorss_margin\n",
    "    }\n",
    "df_ratios = pd.DataFrame(df_ratios)\n",
    "df_ratios"
   ]
  },
  {
   "cell_type": "code",
   "execution_count": 20,
   "metadata": {},
   "outputs": [
    {
     "data": {
      "text/html": [
       "<div>\n",
       "<style scoped>\n",
       "    .dataframe tbody tr th:only-of-type {\n",
       "        vertical-align: middle;\n",
       "    }\n",
       "\n",
       "    .dataframe tbody tr th {\n",
       "        vertical-align: top;\n",
       "    }\n",
       "\n",
       "    .dataframe thead th {\n",
       "        text-align: right;\n",
       "    }\n",
       "</style>\n",
       "<table border=\"1\" class=\"dataframe\">\n",
       "  <thead>\n",
       "    <tr style=\"text-align: right;\">\n",
       "      <th></th>\n",
       "      <th>Years</th>\n",
       "      <th>Closing_Price</th>\n",
       "    </tr>\n",
       "  </thead>\n",
       "  <tbody>\n",
       "    <tr>\n",
       "      <th>0</th>\n",
       "      <td>2022</td>\n",
       "      <td>123.18</td>\n",
       "    </tr>\n",
       "    <tr>\n",
       "      <th>1</th>\n",
       "      <td>2021</td>\n",
       "      <td>352.26</td>\n",
       "    </tr>\n",
       "    <tr>\n",
       "      <th>2</th>\n",
       "      <td>2020</td>\n",
       "      <td>235.22</td>\n",
       "    </tr>\n",
       "    <tr>\n",
       "      <th>3</th>\n",
       "      <td>2019</td>\n",
       "      <td>27.89</td>\n",
       "    </tr>\n",
       "  </tbody>\n",
       "</table>\n",
       "</div>"
      ],
      "text/plain": [
       "  Years  Closing_Price\n",
       "0  2022         123.18\n",
       "1  2021         352.26\n",
       "2  2020         235.22\n",
       "3  2019          27.89"
      ]
     },
     "execution_count": 20,
     "metadata": {},
     "output_type": "execute_result"
    }
   ],
   "source": [
    "# Soruce of Data https://tr.tradingview.com/chart/kdGRESxn/?symbol=NASDAQ%3ATSLA\n",
    "prices = pd.DataFrame({\"Years\" : [\"2022\", \"2021\", \"2020\", \"2019\"], \n",
    "                       \"Closing_Price\": [123.18, 352.26, 235.22, 27.89]\n",
    "                       })\n",
    "prices"
   ]
  },
  {
   "cell_type": "code",
   "execution_count": 21,
   "metadata": {},
   "outputs": [
    {
     "data": {
      "image/png": "[encoded data removed]",
      "text/plain": [
       "<Figure size 640x480 with 1 Axes>"
      ]
     },
     "metadata": {},
     "output_type": "display_data"
    }
   ],
   "source": [
    "prices_lineplot = prices[::-1]\n",
    "sns.lineplot(x = \"Years\",\n",
    "            y = \"Closing_Price\",\n",
    "            data= prices_lineplot)\n",
    "plt.ylabel(\"Prices\")\n",
    "plt.grid(True)"
   ]
  },
  {
   "cell_type": "markdown",
   "metadata": {},
   "source": [
    "### Modeling Data"
   ]
  },
  {
   "cell_type": "code",
   "execution_count": 22,
   "metadata": {},
   "outputs": [],
   "source": [
    "import statsmodels.api as sm\n",
    "from sklearn.model_selection import train_test_split\n",
    "from sklearn.linear_model import Lasso"
   ]
  },
  {
   "cell_type": "code",
   "execution_count": 23,
   "metadata": {},
   "outputs": [
    {
     "data": {
      "text/html": [
       "<div>\n",
       "<style scoped>\n",
       "    .dataframe tbody tr th:only-of-type {\n",
       "        vertical-align: middle;\n",
       "    }\n",
       "\n",
       "    .dataframe tbody tr th {\n",
       "        vertical-align: top;\n",
       "    }\n",
       "\n",
       "    .dataframe thead th {\n",
       "        text-align: right;\n",
       "    }\n",
       "</style>\n",
       "<table border=\"1\" class=\"dataframe\">\n",
       "  <thead>\n",
       "    <tr style=\"text-align: right;\">\n",
       "      <th></th>\n",
       "      <th>Years</th>\n",
       "      <th>c_r</th>\n",
       "      <th>cs_r</th>\n",
       "      <th>ea_r</th>\n",
       "      <th>el_r</th>\n",
       "      <th>art_r</th>\n",
       "      <th>wct_r</th>\n",
       "      <th>ir_r</th>\n",
       "      <th>sge</th>\n",
       "      <th>gm</th>\n",
       "      <th>Closing_Price</th>\n",
       "    </tr>\n",
       "  </thead>\n",
       "  <tbody>\n",
       "    <tr>\n",
       "      <th>0</th>\n",
       "      <td>2022</td>\n",
       "      <td>1.531956</td>\n",
       "      <td>0.608521</td>\n",
       "      <td>0.542933</td>\n",
       "      <td>1.673743</td>\n",
       "      <td>2.188368</td>\n",
       "      <td>1.990908</td>\n",
       "      <td>0.154133</td>\n",
       "      <td>3.181956</td>\n",
       "      <td>0.255984</td>\n",
       "      <td>123.18</td>\n",
       "    </tr>\n",
       "    <tr>\n",
       "      <th>1</th>\n",
       "      <td>2021</td>\n",
       "      <td>1.375285</td>\n",
       "      <td>0.891956</td>\n",
       "      <td>0.485893</td>\n",
       "      <td>1.532048</td>\n",
       "      <td>1.715529</td>\n",
       "      <td>1.986089</td>\n",
       "      <td>0.102540</td>\n",
       "      <td>1.221829</td>\n",
       "      <td>0.252792</td>\n",
       "      <td>352.26</td>\n",
       "    </tr>\n",
       "    <tr>\n",
       "      <th>2</th>\n",
       "      <td>2020</td>\n",
       "      <td>1.875140</td>\n",
       "      <td>1.360472</td>\n",
       "      <td>0.426191</td>\n",
       "      <td>1.559868</td>\n",
       "      <td>1.077491</td>\n",
       "      <td>1.180372</td>\n",
       "      <td>0.000000</td>\n",
       "      <td>0.000000</td>\n",
       "      <td>0.210236</td>\n",
       "      <td>235.22</td>\n",
       "    </tr>\n",
       "    <tr>\n",
       "      <th>3</th>\n",
       "      <td>2019</td>\n",
       "      <td>1.134621</td>\n",
       "      <td>0.587607</td>\n",
       "      <td>0.192894</td>\n",
       "      <td>0.620418</td>\n",
       "      <td>0.908681</td>\n",
       "      <td>2.030736</td>\n",
       "      <td>-0.000035</td>\n",
       "      <td>-0.000326</td>\n",
       "      <td>0.165555</td>\n",
       "      <td>27.89</td>\n",
       "    </tr>\n",
       "  </tbody>\n",
       "</table>\n",
       "</div>"
      ],
      "text/plain": [
       "  Years       c_r      cs_r      ea_r      el_r     art_r     wct_r      ir_r  \\\n",
       "0  2022  1.531956  0.608521  0.542933  1.673743  2.188368  1.990908  0.154133   \n",
       "1  2021  1.375285  0.891956  0.485893  1.532048  1.715529  1.986089  0.102540   \n",
       "2  2020  1.875140  1.360472  0.426191  1.559868  1.077491  1.180372  0.000000   \n",
       "3  2019  1.134621  0.587607  0.192894  0.620418  0.908681  2.030736 -0.000035   \n",
       "\n",
       "        sge        gm  Closing_Price  \n",
       "0  3.181956  0.255984         123.18  \n",
       "1  1.221829  0.252792         352.26  \n",
       "2  0.000000  0.210236         235.22  \n",
       "3 -0.000326  0.165555          27.89  "
      ]
     },
     "execution_count": 23,
     "metadata": {},
     "output_type": "execute_result"
    }
   ],
   "source": [
    "datainmodel = pd.merge(df_ratios, prices, on= \"Years\")\n",
    "datainmodel"
   ]
  },
  {
   "cell_type": "code",
   "execution_count": 24,
   "metadata": {},
   "outputs": [],
   "source": [
    "y = datainmodel[\"Closing_Price\"]\n",
    "X = datainmodel.drop([\"Years\", \"Closing_Price\"], axis= 1)"
   ]
  },
  {
   "cell_type": "code",
   "execution_count": 25,
   "metadata": {},
   "outputs": [],
   "source": [
    "X_train, X_test, y_train, y_test = train_test_split(X, y, test_size= 0.20, random_state= 42)"
   ]
  },
  {
   "cell_type": "code",
   "execution_count": 26,
   "metadata": {},
   "outputs": [
    {
     "name": "stderr",
     "output_type": "stream",
     "text": [
      "/Users/mehmetbuyukgumus/Desktop/Python/Data Science/Projects/Tesla/venv/lib/python3.11/site-packages/statsmodels/stats/stattools.py:74: ValueWarning: omni_normtest is not valid with less than 8 observations; 3 samples were given.\n",
      "  warn(\"omni_normtest is not valid with less than 8 observations; %i \"\n",
      "/Users/mehmetbuyukgumus/Desktop/Python/Data Science/Projects/Tesla/venv/lib/python3.11/site-packages/statsmodels/regression/linear_model.py:1794: RuntimeWarning: divide by zero encountered in divide\n",
      "  return 1 - (np.divide(self.nobs - self.k_constant, self.df_resid)\n",
      "/Users/mehmetbuyukgumus/Desktop/Python/Data Science/Projects/Tesla/venv/lib/python3.11/site-packages/statsmodels/regression/linear_model.py:1794: RuntimeWarning: invalid value encountered in scalar multiply\n",
      "  return 1 - (np.divide(self.nobs - self.k_constant, self.df_resid)\n",
      "/Users/mehmetbuyukgumus/Desktop/Python/Data Science/Projects/Tesla/venv/lib/python3.11/site-packages/statsmodels/regression/linear_model.py:1716: RuntimeWarning: divide by zero encountered in scalar divide\n",
      "  return np.dot(wresid, wresid) / self.df_resid\n"
     ]
    },
    {
     "data": {
      "text/html": [
       "<table class=\"simpletable\">\n",
       "<caption>OLS Regression Results</caption>\n",
       "<tr>\n",
       "  <th>Dep. Variable:</th>      <td>Closing_Price</td>  <th>  R-squared:         </th> <td>   1.000</td>\n",
       "</tr>\n",
       "<tr>\n",
       "  <th>Model:</th>                   <td>OLS</td>       <th>  Adj. R-squared:    </th> <td>     nan</td>\n",
       "</tr>\n",
       "<tr>\n",
       "  <th>Method:</th>             <td>Least Squares</td>  <th>  F-statistic:       </th> <td>     nan</td>\n",
       "</tr>\n",
       "<tr>\n",
       "  <th>Date:</th>             <td>Tue, 07 Nov 2023</td> <th>  Prob (F-statistic):</th>  <td>   nan</td> \n",
       "</tr>\n",
       "<tr>\n",
       "  <th>Time:</th>                 <td>17:23:08</td>     <th>  Log-Likelihood:    </th> <td>  87.419</td>\n",
       "</tr>\n",
       "<tr>\n",
       "  <th>No. Observations:</th>      <td>     3</td>      <th>  AIC:               </th> <td>  -168.8</td>\n",
       "</tr>\n",
       "<tr>\n",
       "  <th>Df Residuals:</th>          <td>     0</td>      <th>  BIC:               </th> <td>  -171.5</td>\n",
       "</tr>\n",
       "<tr>\n",
       "  <th>Df Model:</th>              <td>     2</td>      <th>                     </th>     <td> </td>   \n",
       "</tr>\n",
       "<tr>\n",
       "  <th>Covariance Type:</th>      <td>nonrobust</td>    <th>                     </th>     <td> </td>   \n",
       "</tr>\n",
       "</table>\n",
       "<table class=\"simpletable\">\n",
       "<tr>\n",
       "    <td></td>       <th>coef</th>     <th>std err</th>      <th>t</th>      <th>P>|t|</th>  <th>[0.025</th>    <th>0.975]</th>  \n",
       "</tr>\n",
       "<tr>\n",
       "  <th>const</th> <td>    0.7834</td> <td>      inf</td> <td>        0</td> <td>   nan</td> <td>      nan</td> <td>      nan</td>\n",
       "</tr>\n",
       "<tr>\n",
       "  <th>c_r</th>   <td>   55.0107</td> <td>      inf</td> <td>        0</td> <td>   nan</td> <td>      nan</td> <td>      nan</td>\n",
       "</tr>\n",
       "<tr>\n",
       "  <th>cs_r</th>  <td>   57.7813</td> <td>      inf</td> <td>        0</td> <td>   nan</td> <td>      nan</td> <td>      nan</td>\n",
       "</tr>\n",
       "<tr>\n",
       "  <th>ea_r</th>  <td>   16.7250</td> <td>      inf</td> <td>        0</td> <td>   nan</td> <td>      nan</td> <td>      nan</td>\n",
       "</tr>\n",
       "<tr>\n",
       "  <th>el_r</th>  <td>   67.9821</td> <td>      inf</td> <td>        0</td> <td>   nan</td> <td>      nan</td> <td>      nan</td>\n",
       "</tr>\n",
       "<tr>\n",
       "  <th>art_r</th> <td>   10.5277</td> <td>      inf</td> <td>        0</td> <td>   nan</td> <td>      nan</td> <td>      nan</td>\n",
       "</tr>\n",
       "<tr>\n",
       "  <th>wct_r</th> <td>  -61.4423</td> <td>      inf</td> <td>       -0</td> <td>   nan</td> <td>      nan</td> <td>      nan</td>\n",
       "</tr>\n",
       "<tr>\n",
       "  <th>ir_r</th>  <td>   -0.3244</td> <td>      inf</td> <td>       -0</td> <td>   nan</td> <td>      nan</td> <td>      nan</td>\n",
       "</tr>\n",
       "<tr>\n",
       "  <th>sge</th>   <td>   -6.7251</td> <td>      inf</td> <td>       -0</td> <td>   nan</td> <td>      nan</td> <td>      nan</td>\n",
       "</tr>\n",
       "<tr>\n",
       "  <th>gm</th>    <td>    3.2544</td> <td>      inf</td> <td>        0</td> <td>   nan</td> <td>      nan</td> <td>      nan</td>\n",
       "</tr>\n",
       "</table>\n",
       "<table class=\"simpletable\">\n",
       "<tr>\n",
       "  <th>Omnibus:</th>       <td>   nan</td> <th>  Durbin-Watson:     </th> <td>   0.859</td>\n",
       "</tr>\n",
       "<tr>\n",
       "  <th>Prob(Omnibus):</th> <td>   nan</td> <th>  Jarque-Bera (JB):  </th> <td>   0.509</td>\n",
       "</tr>\n",
       "<tr>\n",
       "  <th>Skew:</th>          <td>-0.675</td> <th>  Prob(JB):          </th> <td>   0.775</td>\n",
       "</tr>\n",
       "<tr>\n",
       "  <th>Kurtosis:</th>      <td> 1.500</td> <th>  Cond. No.          </th> <td>    5.61</td>\n",
       "</tr>\n",
       "</table><br/><br/>Notes:<br/>[1] Standard Errors assume that the covariance matrix of the errors is correctly specified.<br/>[2] The input rank is higher than the number of observations."
      ],
      "text/latex": [
       "\\begin{center}\n",
       "\\begin{tabular}{lclc}\n",
       "\\toprule\n",
       "\\textbf{Dep. Variable:}    &  Closing\\_Price  & \\textbf{  R-squared:         } &     1.000   \\\\\n",
       "\\textbf{Model:}            &       OLS        & \\textbf{  Adj. R-squared:    } &       nan   \\\\\n",
       "\\textbf{Method:}           &  Least Squares   & \\textbf{  F-statistic:       } &       nan   \\\\\n",
       "\\textbf{Date:}             & Tue, 07 Nov 2023 & \\textbf{  Prob (F-statistic):} &      nan    \\\\\n",
       "\\textbf{Time:}             &     17:23:08     & \\textbf{  Log-Likelihood:    } &    87.419   \\\\\n",
       "\\textbf{No. Observations:} &           3      & \\textbf{  AIC:               } &    -168.8   \\\\\n",
       "\\textbf{Df Residuals:}     &           0      & \\textbf{  BIC:               } &    -171.5   \\\\\n",
       "\\textbf{Df Model:}         &           2      & \\textbf{                     } &             \\\\\n",
       "\\textbf{Covariance Type:}  &    nonrobust     & \\textbf{                     } &             \\\\\n",
       "\\bottomrule\n",
       "\\end{tabular}\n",
       "\\begin{tabular}{lcccccc}\n",
       "                & \\textbf{coef} & \\textbf{std err} & \\textbf{t} & \\textbf{P$> |$t$|$} & \\textbf{[0.025} & \\textbf{0.975]}  \\\\\n",
       "\\midrule\n",
       "\\textbf{const}  &       0.7834  &          inf     &         0  &           nan        &          nan    &          nan     \\\\\n",
       "\\textbf{c\\_r}   &      55.0107  &          inf     &         0  &           nan        &          nan    &          nan     \\\\\n",
       "\\textbf{cs\\_r}  &      57.7813  &          inf     &         0  &           nan        &          nan    &          nan     \\\\\n",
       "\\textbf{ea\\_r}  &      16.7250  &          inf     &         0  &           nan        &          nan    &          nan     \\\\\n",
       "\\textbf{el\\_r}  &      67.9821  &          inf     &         0  &           nan        &          nan    &          nan     \\\\\n",
       "\\textbf{art\\_r} &      10.5277  &          inf     &         0  &           nan        &          nan    &          nan     \\\\\n",
       "\\textbf{wct\\_r} &     -61.4423  &          inf     &        -0  &           nan        &          nan    &          nan     \\\\\n",
       "\\textbf{ir\\_r}  &      -0.3244  &          inf     &        -0  &           nan        &          nan    &          nan     \\\\\n",
       "\\textbf{sge}    &      -6.7251  &          inf     &        -0  &           nan        &          nan    &          nan     \\\\\n",
       "\\textbf{gm}     &       3.2544  &          inf     &         0  &           nan        &          nan    &          nan     \\\\\n",
       "\\bottomrule\n",
       "\\end{tabular}\n",
       "\\begin{tabular}{lclc}\n",
       "\\textbf{Omnibus:}       &    nan & \\textbf{  Durbin-Watson:     } &    0.859  \\\\\n",
       "\\textbf{Prob(Omnibus):} &    nan & \\textbf{  Jarque-Bera (JB):  } &    0.509  \\\\\n",
       "\\textbf{Skew:}          & -0.675 & \\textbf{  Prob(JB):          } &    0.775  \\\\\n",
       "\\textbf{Kurtosis:}      &  1.500 & \\textbf{  Cond. No.          } &     5.61  \\\\\n",
       "\\bottomrule\n",
       "\\end{tabular}\n",
       "%\\caption{OLS Regression Results}\n",
       "\\end{center}\n",
       "\n",
       "Notes: \\newline\n",
       " [1] Standard Errors assume that the covariance matrix of the errors is correctly specified. \\newline\n",
       " [2] The input rank is higher than the number of observations."
      ],
      "text/plain": [
       "<class 'statsmodels.iolib.summary.Summary'>\n",
       "\"\"\"\n",
       "                            OLS Regression Results                            \n",
       "==============================================================================\n",
       "Dep. Variable:          Closing_Price   R-squared:                       1.000\n",
       "Model:                            OLS   Adj. R-squared:                    nan\n",
       "Method:                 Least Squares   F-statistic:                       nan\n",
       "Date:                Tue, 07 Nov 2023   Prob (F-statistic):                nan\n",
       "Time:                        17:23:08   Log-Likelihood:                 87.419\n",
       "No. Observations:                   3   AIC:                            -168.8\n",
       "Df Residuals:                       0   BIC:                            -171.5\n",
       "Df Model:                           2                                         \n",
       "Covariance Type:            nonrobust                                         \n",
       "==============================================================================\n",
       "                 coef    std err          t      P>|t|      [0.025      0.975]\n",
       "------------------------------------------------------------------------------\n",
       "const          0.7834        inf          0        nan         nan         nan\n",
       "c_r           55.0107        inf          0        nan         nan         nan\n",
       "cs_r          57.7813        inf          0        nan         nan         nan\n",
       "ea_r          16.7250        inf          0        nan         nan         nan\n",
       "el_r          67.9821        inf          0        nan         nan         nan\n",
       "art_r         10.5277        inf          0        nan         nan         nan\n",
       "wct_r        -61.4423        inf         -0        nan         nan         nan\n",
       "ir_r          -0.3244        inf         -0        nan         nan         nan\n",
       "sge           -6.7251        inf         -0        nan         nan         nan\n",
       "gm             3.2544        inf          0        nan         nan         nan\n",
       "==============================================================================\n",
       "Omnibus:                          nan   Durbin-Watson:                   0.859\n",
       "Prob(Omnibus):                    nan   Jarque-Bera (JB):                0.509\n",
       "Skew:                          -0.675   Prob(JB):                        0.775\n",
       "Kurtosis:                       1.500   Cond. No.                         5.61\n",
       "==============================================================================\n",
       "\n",
       "Notes:\n",
       "[1] Standard Errors assume that the covariance matrix of the errors is correctly specified.\n",
       "[2] The input rank is higher than the number of observations.\n",
       "\"\"\""
      ]
     },
     "execution_count": 26,
     "metadata": {},
     "output_type": "execute_result"
    }
   ],
   "source": [
    "const = sm.add_constant(X_train)\n",
    "model_OLS = sm.OLS(y_train, const).fit()\n",
    "model_OLS.summary()"
   ]
  },
  {
   "cell_type": "code",
   "execution_count": 30,
   "metadata": {},
   "outputs": [
    {
     "name": "stderr",
     "output_type": "stream",
     "text": [
      "/Users/mehmetbuyukgumus/Desktop/Python/Data Science/Projects/Tesla/venv/lib/python3.11/site-packages/statsmodels/stats/stattools.py:74: ValueWarning: omni_normtest is not valid with less than 8 observations; 4 samples were given.\n",
      "  warn(\"omni_normtest is not valid with less than 8 observations; %i \"\n",
      "/Users/mehmetbuyukgumus/Desktop/Python/Data Science/Projects/Tesla/venv/lib/python3.11/site-packages/statsmodels/regression/linear_model.py:1794: RuntimeWarning: divide by zero encountered in divide\n",
      "  return 1 - (np.divide(self.nobs - self.k_constant, self.df_resid)\n",
      "/Users/mehmetbuyukgumus/Desktop/Python/Data Science/Projects/Tesla/venv/lib/python3.11/site-packages/statsmodels/regression/linear_model.py:1794: RuntimeWarning: invalid value encountered in scalar multiply\n",
      "  return 1 - (np.divide(self.nobs - self.k_constant, self.df_resid)\n",
      "/Users/mehmetbuyukgumus/Desktop/Python/Data Science/Projects/Tesla/venv/lib/python3.11/site-packages/statsmodels/regression/linear_model.py:1716: RuntimeWarning: divide by zero encountered in scalar divide\n",
      "  return np.dot(wresid, wresid) / self.df_resid\n"
     ]
    },
    {
     "data": {
      "text/html": [
       "<table class=\"simpletable\">\n",
       "<caption>OLS Regression Results</caption>\n",
       "<tr>\n",
       "  <th>Dep. Variable:</th>      <td>Closing_Price</td>  <th>  R-squared:         </th> <td>   1.000</td>\n",
       "</tr>\n",
       "<tr>\n",
       "  <th>Model:</th>                   <td>OLS</td>       <th>  Adj. R-squared:    </th> <td>     nan</td>\n",
       "</tr>\n",
       "<tr>\n",
       "  <th>Method:</th>             <td>Least Squares</td>  <th>  F-statistic:       </th> <td>     nan</td>\n",
       "</tr>\n",
       "<tr>\n",
       "  <th>Date:</th>             <td>Tue, 07 Nov 2023</td> <th>  Prob (F-statistic):</th>  <td>   nan</td> \n",
       "</tr>\n",
       "<tr>\n",
       "  <th>Time:</th>                 <td>17:25:37</td>     <th>  Log-Likelihood:    </th> <td>  105.00</td>\n",
       "</tr>\n",
       "<tr>\n",
       "  <th>No. Observations:</th>      <td>     4</td>      <th>  AIC:               </th> <td>  -202.0</td>\n",
       "</tr>\n",
       "<tr>\n",
       "  <th>Df Residuals:</th>          <td>     0</td>      <th>  BIC:               </th> <td>  -204.5</td>\n",
       "</tr>\n",
       "<tr>\n",
       "  <th>Df Model:</th>              <td>     3</td>      <th>                     </th>     <td> </td>   \n",
       "</tr>\n",
       "<tr>\n",
       "  <th>Covariance Type:</th>      <td>nonrobust</td>    <th>                     </th>     <td> </td>   \n",
       "</tr>\n",
       "</table>\n",
       "<table class=\"simpletable\">\n",
       "<tr>\n",
       "    <td></td>       <th>coef</th>     <th>std err</th>      <th>t</th>      <th>P>|t|</th>  <th>[0.025</th>    <th>0.975]</th>  \n",
       "</tr>\n",
       "<tr>\n",
       "  <th>const</th> <td> -151.3548</td> <td>      inf</td> <td>       -0</td> <td>   nan</td> <td>      nan</td> <td>      nan</td>\n",
       "</tr>\n",
       "<tr>\n",
       "  <th>c_r</th>   <td> -357.8265</td> <td>      inf</td> <td>       -0</td> <td>   nan</td> <td>      nan</td> <td>      nan</td>\n",
       "</tr>\n",
       "<tr>\n",
       "  <th>cs_r</th>  <td>  101.8352</td> <td>      inf</td> <td>        0</td> <td>   nan</td> <td>      nan</td> <td>      nan</td>\n",
       "</tr>\n",
       "<tr>\n",
       "  <th>ea_r</th>  <td>  132.8145</td> <td>      inf</td> <td>        0</td> <td>   nan</td> <td>      nan</td> <td>      nan</td>\n",
       "</tr>\n",
       "<tr>\n",
       "  <th>el_r</th>  <td>  343.8757</td> <td>      inf</td> <td>        0</td> <td>   nan</td> <td>      nan</td> <td>      nan</td>\n",
       "</tr>\n",
       "<tr>\n",
       "  <th>art_r</th> <td>  281.2792</td> <td>      inf</td> <td>        0</td> <td>   nan</td> <td>      nan</td> <td>      nan</td>\n",
       "</tr>\n",
       "<tr>\n",
       "  <th>wct_r</th> <td>   11.5670</td> <td>      inf</td> <td>        0</td> <td>   nan</td> <td>      nan</td> <td>      nan</td>\n",
       "</tr>\n",
       "<tr>\n",
       "  <th>ir_r</th>  <td>   68.8286</td> <td>      inf</td> <td>        0</td> <td>   nan</td> <td>      nan</td> <td>      nan</td>\n",
       "</tr>\n",
       "<tr>\n",
       "  <th>sge</th>   <td> -172.0319</td> <td>      inf</td> <td>       -0</td> <td>   nan</td> <td>      nan</td> <td>      nan</td>\n",
       "</tr>\n",
       "<tr>\n",
       "  <th>gm</th>    <td>   44.1014</td> <td>      inf</td> <td>        0</td> <td>   nan</td> <td>      nan</td> <td>      nan</td>\n",
       "</tr>\n",
       "</table>\n",
       "<table class=\"simpletable\">\n",
       "<tr>\n",
       "  <th>Omnibus:</th>       <td>   nan</td> <th>  Durbin-Watson:     </th> <td>   2.223</td>\n",
       "</tr>\n",
       "<tr>\n",
       "  <th>Prob(Omnibus):</th> <td>   nan</td> <th>  Jarque-Bera (JB):  </th> <td>   0.430</td>\n",
       "</tr>\n",
       "<tr>\n",
       "  <th>Skew:</th>          <td> 0.593</td> <th>  Prob(JB):          </th> <td>   0.807</td>\n",
       "</tr>\n",
       "<tr>\n",
       "  <th>Kurtosis:</th>      <td> 1.919</td> <th>  Cond. No.          </th> <td>    24.4</td>\n",
       "</tr>\n",
       "</table><br/><br/>Notes:<br/>[1] Standard Errors assume that the covariance matrix of the errors is correctly specified.<br/>[2] The input rank is higher than the number of observations."
      ],
      "text/latex": [
       "\\begin{center}\n",
       "\\begin{tabular}{lclc}\n",
       "\\toprule\n",
       "\\textbf{Dep. Variable:}    &  Closing\\_Price  & \\textbf{  R-squared:         } &     1.000   \\\\\n",
       "\\textbf{Model:}            &       OLS        & \\textbf{  Adj. R-squared:    } &       nan   \\\\\n",
       "\\textbf{Method:}           &  Least Squares   & \\textbf{  F-statistic:       } &       nan   \\\\\n",
       "\\textbf{Date:}             & Tue, 07 Nov 2023 & \\textbf{  Prob (F-statistic):} &      nan    \\\\\n",
       "\\textbf{Time:}             &     17:25:37     & \\textbf{  Log-Likelihood:    } &    105.00   \\\\\n",
       "\\textbf{No. Observations:} &           4      & \\textbf{  AIC:               } &    -202.0   \\\\\n",
       "\\textbf{Df Residuals:}     &           0      & \\textbf{  BIC:               } &    -204.5   \\\\\n",
       "\\textbf{Df Model:}         &           3      & \\textbf{                     } &             \\\\\n",
       "\\textbf{Covariance Type:}  &    nonrobust     & \\textbf{                     } &             \\\\\n",
       "\\bottomrule\n",
       "\\end{tabular}\n",
       "\\begin{tabular}{lcccccc}\n",
       "                & \\textbf{coef} & \\textbf{std err} & \\textbf{t} & \\textbf{P$> |$t$|$} & \\textbf{[0.025} & \\textbf{0.975]}  \\\\\n",
       "\\midrule\n",
       "\\textbf{const}  &    -151.3548  &          inf     &        -0  &           nan        &          nan    &          nan     \\\\\n",
       "\\textbf{c\\_r}   &    -357.8265  &          inf     &        -0  &           nan        &          nan    &          nan     \\\\\n",
       "\\textbf{cs\\_r}  &     101.8352  &          inf     &         0  &           nan        &          nan    &          nan     \\\\\n",
       "\\textbf{ea\\_r}  &     132.8145  &          inf     &         0  &           nan        &          nan    &          nan     \\\\\n",
       "\\textbf{el\\_r}  &     343.8757  &          inf     &         0  &           nan        &          nan    &          nan     \\\\\n",
       "\\textbf{art\\_r} &     281.2792  &          inf     &         0  &           nan        &          nan    &          nan     \\\\\n",
       "\\textbf{wct\\_r} &      11.5670  &          inf     &         0  &           nan        &          nan    &          nan     \\\\\n",
       "\\textbf{ir\\_r}  &      68.8286  &          inf     &         0  &           nan        &          nan    &          nan     \\\\\n",
       "\\textbf{sge}    &    -172.0319  &          inf     &        -0  &           nan        &          nan    &          nan     \\\\\n",
       "\\textbf{gm}     &      44.1014  &          inf     &         0  &           nan        &          nan    &          nan     \\\\\n",
       "\\bottomrule\n",
       "\\end{tabular}\n",
       "\\begin{tabular}{lclc}\n",
       "\\textbf{Omnibus:}       &    nan & \\textbf{  Durbin-Watson:     } &    2.223  \\\\\n",
       "\\textbf{Prob(Omnibus):} &    nan & \\textbf{  Jarque-Bera (JB):  } &    0.430  \\\\\n",
       "\\textbf{Skew:}          &  0.593 & \\textbf{  Prob(JB):          } &    0.807  \\\\\n",
       "\\textbf{Kurtosis:}      &  1.919 & \\textbf{  Cond. No.          } &     24.4  \\\\\n",
       "\\bottomrule\n",
       "\\end{tabular}\n",
       "%\\caption{OLS Regression Results}\n",
       "\\end{center}\n",
       "\n",
       "Notes: \\newline\n",
       " [1] Standard Errors assume that the covariance matrix of the errors is correctly specified. \\newline\n",
       " [2] The input rank is higher than the number of observations."
      ],
      "text/plain": [
       "<class 'statsmodels.iolib.summary.Summary'>\n",
       "\"\"\"\n",
       "                            OLS Regression Results                            \n",
       "==============================================================================\n",
       "Dep. Variable:          Closing_Price   R-squared:                       1.000\n",
       "Model:                            OLS   Adj. R-squared:                    nan\n",
       "Method:                 Least Squares   F-statistic:                       nan\n",
       "Date:                Tue, 07 Nov 2023   Prob (F-statistic):                nan\n",
       "Time:                        17:25:37   Log-Likelihood:                 105.00\n",
       "No. Observations:                   4   AIC:                            -202.0\n",
       "Df Residuals:                       0   BIC:                            -204.5\n",
       "Df Model:                           3                                         \n",
       "Covariance Type:            nonrobust                                         \n",
       "==============================================================================\n",
       "                 coef    std err          t      P>|t|      [0.025      0.975]\n",
       "------------------------------------------------------------------------------\n",
       "const       -151.3548        inf         -0        nan         nan         nan\n",
       "c_r         -357.8265        inf         -0        nan         nan         nan\n",
       "cs_r         101.8352        inf          0        nan         nan         nan\n",
       "ea_r         132.8145        inf          0        nan         nan         nan\n",
       "el_r         343.8757        inf          0        nan         nan         nan\n",
       "art_r        281.2792        inf          0        nan         nan         nan\n",
       "wct_r         11.5670        inf          0        nan         nan         nan\n",
       "ir_r          68.8286        inf          0        nan         nan         nan\n",
       "sge         -172.0319        inf         -0        nan         nan         nan\n",
       "gm            44.1014        inf          0        nan         nan         nan\n",
       "==============================================================================\n",
       "Omnibus:                          nan   Durbin-Watson:                   2.223\n",
       "Prob(Omnibus):                    nan   Jarque-Bera (JB):                0.430\n",
       "Skew:                           0.593   Prob(JB):                        0.807\n",
       "Kurtosis:                       1.919   Cond. No.                         24.4\n",
       "==============================================================================\n",
       "\n",
       "Notes:\n",
       "[1] Standard Errors assume that the covariance matrix of the errors is correctly specified.\n",
       "[2] The input rank is higher than the number of observations.\n",
       "\"\"\""
      ]
     },
     "execution_count": 30,
     "metadata": {},
     "output_type": "execute_result"
    }
   ],
   "source": [
    "const2 = sm.add_constant(X)\n",
    "model2 = sm.OLS(y, const2).fit()\n",
    "model2.summary()"
   ]
  },
  {
   "cell_type": "markdown",
   "metadata": {},
   "source": [
    "As a result of both models, the results are insignificant. For this reason, when making buying-selling decisions, it cannot be said that there is a direct relationship between the analysis ratios of the company's financial statements and the stock price."
   ]
  }
 ],
 "metadata": {
  "kernelspec": {
   "display_name": "venv",
   "language": "python",
   "name": "python3"
  },
  "language_info": {
   "codemirror_mode": {
    "name": "ipython",
    "version": 3
   },
   "file_extension": ".py",
   "mimetype": "text/x-python",
   "name": "python",
   "nbconvert_exporter": "python",
   "pygments_lexer": "ipython3",
   "version": "3.11.4"
  }
 },
 "nbformat": 4,
 "nbformat_minor": 2
}
